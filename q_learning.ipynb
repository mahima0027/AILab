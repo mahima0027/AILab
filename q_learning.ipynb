{
  "nbformat": 4,
  "nbformat_minor": 0,
  "metadata": {
    "colab": {
      "provenance": []
    },
    "kernelspec": {
      "name": "python3",
      "display_name": "Python 3"
    },
    "language_info": {
      "name": "python"
    }
  },
  "cells": [
    {
      "cell_type": "code",
      "execution_count": 1,
      "metadata": {
        "id": "SvwtT766NoMs"
      },
      "outputs": [],
      "source": [
        "import numpy as np\n",
        "import random\n",
        "\n",
        "# Define the gridworld environment\n",
        "class GridWorld:\n",
        "    def __init__(self):\n",
        "        self.grid = np.array([\n",
        "            [0, 0, 0, 1],  # Goal at (0, 3)\n",
        "            [0, -1, 0, 0],  # Wall with reward -1\n",
        "            [0, 0, 0, 0],\n",
        "            [0, 0, 0, 0]  # Start at (3, 0)\n",
        "        ])\n",
        "        self.start_state = (3, 0)\n",
        "        self.state = self.start_state\n",
        "\n",
        "    def reset(self):\n",
        "        self.state = self.start_state\n",
        "        return self.state\n",
        "\n",
        "    def is_terminal(self, state):\n",
        "        return self.grid[state] == 1 or self.grid[state] == -1\n",
        "\n",
        "    def get_next_state(self, state, action):\n",
        "        next_state = list(state)\n",
        "        if action == 0:  # Move up\n",
        "            next_state[0] = max(0, state[0] - 1)\n",
        "        elif action == 1:  # Move right\n",
        "            next_state[1] = min(3, state[1] + 1)\n",
        "        elif action == 2:  # Move down\n",
        "            next_state[0] = min(3, state[0] + 1)\n",
        "        elif action == 3:  # Move left\n",
        "            next_state[1] = max(0, state[1] - 1)\n",
        "        return tuple(next_state)\n",
        "\n",
        "    def step(self, action):\n",
        "        next_state = self.get_next_state(self.state, action)\n",
        "        reward = self.grid[next_state]\n",
        "        self.state = next_state\n",
        "        done = self.is_terminal(next_state)\n",
        "        return next_state, reward, done\n",
        "# The environment is simple. The agent moves up, down, left, or right, and receives rewards based on its location.\n",
        "\n",
        "# Q-Learning Agent\n",
        "\n",
        "# Next, we define the Q-learning agent that interacts with the environment.\n",
        "\n",
        "class QLearningAgent:\n",
        "    def __init__(self, learning_rate=0.1, discount_factor=0.9, exploration_rate=0.1):\n",
        "        self.q_table = np.zeros((4, 4, 4))  # Q-values for each state-action pair\n",
        "        self.learning_rate = learning_rate\n",
        "        self.discount_factor = discount_factor\n",
        "        self.exploration_rate = exploration_rate\n",
        "\n",
        "    def choose_action(self, state):\n",
        "        if random.uniform(0, 1) < self.exploration_rate:\n",
        "            return random.randint(0, 3)  # Explore\n",
        "        else:\n",
        "            return np.argmax(self.q_table[state])  # Exploit\n",
        "\n",
        "    def update_q_value(self, state, action, reward, next_state):\n",
        "        max_future_q = np.max(self.q_table[next_state])  # Best Q-value for next state\n",
        "        current_q = self.q_table[state][action]\n",
        "        # Q-learning formula\n",
        "        self.q_table[state][action] = current_q + self.learning_rate * (\n",
        "            reward + self.discount_factor * max_future_q - current_q\n",
        "        )\n",
        "# - The agent has a Q-table initialized to zero.\n",
        "# - The agent uses an epsilon-greedy strategy, meaning it randomly explores with probability epsilon and exploits the current knowledge otherwise.\n",
        "# - The update_q_value function uses the Q-learning update formula to adjust the Q-values after each step.\n",
        "\n",
        "# Training the Agent\n",
        "\n",
        "# Finally, we train the agent by running episodes in the environment.\n",
        "\n",
        "env = GridWorld()\n",
        "agent = QLearningAgent()\n",
        "\n",
        "episodes = 1000  # Number of training episodes\n",
        "\n",
        "for episode in range(episodes):\n",
        "    state = env.reset()  # Reset the environment at the start of each episode\n",
        "    done = False\n",
        "\n",
        "    while not done:\n",
        "        action = agent.choose_action(state)  # Choose an action\n",
        "        next_state, reward, done = env.step(action)  # Take the action and observe next state, reward\n",
        "        agent.update_q_value(state, action, reward, next_state)  # Update Q-values\n",
        "        state = next_state  # Move to the next state"
      ]
    },
    {
      "source": [
        "# After the training loop:\n",
        "print(agent.q_table)"
      ],
      "cell_type": "code",
      "metadata": {
        "colab": {
          "base_uri": "https://localhost:8080/"
        },
        "id": "BxPPjoIZOVYo",
        "outputId": "7add84c4-eed6-4470-f92c-a1fb72c77da2"
      },
      "execution_count": 2,
      "outputs": [
        {
          "output_type": "stream",
          "name": "stdout",
          "text": [
            "[[[ 0.68234979  0.81        0.57633331  0.70114041]\n",
            "  [ 0.7848492   0.9        -0.91137062  0.64451875]\n",
            "  [ 0.87739536  1.          0.71825837  0.72748863]\n",
            "  [ 0.          0.          0.          0.        ]]\n",
            "\n",
            " [[ 0.729      -0.81469798  0.55483564  0.56737097]\n",
            "  [ 0.          0.          0.          0.        ]\n",
            "  [ 0.89973186  0.09634311  0.24042958 -0.1       ]\n",
            "  [ 0.56953279  0.          0.          0.        ]]\n",
            "\n",
            " [[ 0.6561      0.48639542  0.45350562  0.51648626]\n",
            "  [-0.19        0.7022876   0.          0.05904393]\n",
            "  [ 0.80445515  0.00805553  0.00909886  0.        ]\n",
            "  [ 0.10053559  0.          0.          0.        ]]\n",
            "\n",
            " [[ 0.59049     0.30033377  0.44639067  0.45963855]\n",
            "  [ 0.50813934  0.          0.00637561  0.        ]\n",
            "  [ 0.1461222   0.          0.          0.        ]\n",
            "  [ 0.          0.          0.          0.        ]]]\n"
          ]
        }
      ]
    },
    {
      "source": [
        "pip install matplotlib"
      ],
      "cell_type": "code",
      "metadata": {
        "colab": {
          "base_uri": "https://localhost:8080/"
        },
        "id": "5IY3JScuOrnS",
        "outputId": "6f3a6f27-ff09-48cd-b7a1-e1ef15670474"
      },
      "execution_count": 3,
      "outputs": [
        {
          "output_type": "stream",
          "name": "stdout",
          "text": [
            "Requirement already satisfied: matplotlib in /usr/local/lib/python3.11/dist-packages (3.10.0)\n",
            "Requirement already satisfied: contourpy>=1.0.1 in /usr/local/lib/python3.11/dist-packages (from matplotlib) (1.3.1)\n",
            "Requirement already satisfied: cycler>=0.10 in /usr/local/lib/python3.11/dist-packages (from matplotlib) (0.12.1)\n",
            "Requirement already satisfied: fonttools>=4.22.0 in /usr/local/lib/python3.11/dist-packages (from matplotlib) (4.56.0)\n",
            "Requirement already satisfied: kiwisolver>=1.3.1 in /usr/local/lib/python3.11/dist-packages (from matplotlib) (1.4.8)\n",
            "Requirement already satisfied: numpy>=1.23 in /usr/local/lib/python3.11/dist-packages (from matplotlib) (1.26.4)\n",
            "Requirement already satisfied: packaging>=20.0 in /usr/local/lib/python3.11/dist-packages (from matplotlib) (24.2)\n",
            "Requirement already satisfied: pillow>=8 in /usr/local/lib/python3.11/dist-packages (from matplotlib) (11.1.0)\n",
            "Requirement already satisfied: pyparsing>=2.3.1 in /usr/local/lib/python3.11/dist-packages (from matplotlib) (3.2.1)\n",
            "Requirement already satisfied: python-dateutil>=2.7 in /usr/local/lib/python3.11/dist-packages (from matplotlib) (2.8.2)\n",
            "Requirement already satisfied: six>=1.5 in /usr/local/lib/python3.11/dist-packages (from python-dateutil>=2.7->matplotlib) (1.17.0)\n"
          ]
        }
      ]
    },
    {
      "source": [
        "import matplotlib.pyplot as plt\n",
        "\n",
        "def visualize_policy(q_table):\n",
        "    \"\"\"Visualizes the policy learned by the Q-learning agent.\"\"\"\n",
        "    grid_size = q_table.shape[0]  # Assuming a square grid\n",
        "    fig, ax = plt.subplots()\n",
        "    ax.set_xlim(0, grid_size)\n",
        "    ax.set_ylim(0, grid_size)\n",
        "    ax.set_xticks(np.arange(0, grid_size + 1, 1))\n",
        "    ax.set_yticks(np.arange(0, grid_size + 1, 1))\n",
        "    ax.grid(True)\n",
        "\n",
        "    for i in range(grid_size):\n",
        "        for j in range(grid_size):\n",
        "            state = (i, j)\n",
        "            if env.is_terminal(state):  # Check if terminal state\n",
        "                if env.grid[state] == 1:  # Goal\n",
        "                    ax.text(j + 0.5, grid_size - i - 0.5, 'G', ha='center', va='center', fontsize=14, color='green')\n",
        "                else:  # Wall\n",
        "                    ax.text(j + 0.5, grid_size - i - 0.5, 'W', ha='center', va='center', fontsize=14, color='red')\n",
        "                continue  # Skip to next state\n",
        "\n",
        "            action = np.argmax(q_table[state])  # Get optimal action\n",
        "            if action == 0:  # Up\n",
        "                dx, dy = 0, 0.4\n",
        "            elif action == 1:  # Right\n",
        "                dx, dy = 0.4, 0\n",
        "            elif action == 2:  # Down\n",
        "                dx, dy = 0, -0.4\n",
        "            else:  # Left\n",
        "                dx, dy = -0.4, 0\n",
        "\n",
        "            ax.arrow(j + 0.5, grid_size - i - 0.5, dx, dy, head_width=0.1, head_length=0.1, fc='blue', ec='blue')\n",
        "\n",
        "    plt.show()\n",
        "\n",
        "# Call the function to visualize the policy\n",
        "visualize_policy(agent.q_table)"
      ],
      "cell_type": "code",
      "metadata": {
        "colab": {
          "base_uri": "https://localhost:8080/",
          "height": 435
        },
        "id": "ujm2U6qHOsOT",
        "outputId": "e0ca6e66-b91f-4e7a-b16a-92c5277eaa57"
      },
      "execution_count": 4,
      "outputs": [
        {
          "output_type": "display_data",
          "data": {
            "text/plain": [
              "<Figure size 640x480 with 1 Axes>"
            ],
            "image/png": "[encoded data removed]"
          },
          "metadata": {}
        }
      ]
    }
  ]
}